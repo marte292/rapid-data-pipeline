{
 "cells": [
  {
   "cell_type": "markdown",
   "metadata": {},
   "source": [
    "Look for any .tar files"
   ]
  },
  {
   "cell_type": "code",
   "execution_count": 17,
   "metadata": {},
   "outputs": [
    {
     "name": "stdout",
     "output_type": "stream",
     "text": [
      "\u001b[0m\u001b[01;32m20200508_02_seattle_fullcity_processed.tar\u001b[0m*  run07.tar  run16.tar  run25.tar\n",
      "\u001b[01;32m20200510_03_seattle_fullcity_processed.tar\u001b[0m*  run08.tar  run17.tar  run26.tar\n",
      "\u001b[01;32mrun01_output.tar\u001b[0m*                            run09.tar  run18.tar  run27.tar\n",
      "run01.tar                                    run10.tar  run19.tar  run28.tar\n",
      "run02.tar                                    run11.tar  run20.tar  run29.tar\n",
      "run03.tar                                    run12.tar  run21.tar  run30.tar\n",
      "run04.tar                                    run13.tar  run22.tar  run31.tar\n",
      "run05.tar                                    run14.tar  run23.tar  run32.tar\n",
      "run06.tar                                    run15.tar  run24.tar  run33.tar\n"
     ]
    }
   ],
   "source": [
    "ls *.tar"
   ]
  },
  {
   "cell_type": "markdown",
   "metadata": {},
   "source": [
    "Define the .tar file we want to unpack and postprocess"
   ]
  },
  {
   "cell_type": "code",
   "execution_count": 18,
   "metadata": {},
   "outputs": [],
   "source": [
    "import os\n",
    "\n",
    "tarFile = 'run33.tar'\n",
    "runWNum = tarFile.split('.')[0]\n",
    "runNum = runWNum[-2:]\n",
    "runName = next(filter(lambda x:len(x.split('_'))>1 and x.split('_')[1]==runNum,os.listdir('../../Processed_Data/Pulsar/')))"
   ]
  },
  {
   "cell_type": "markdown",
   "metadata": {},
   "source": [
    "Unpack .tar file and rename folder"
   ]
  },
  {
   "cell_type": "code",
   "execution_count": 19,
   "metadata": {},
   "outputs": [],
   "source": [
    "%%bash -s $tarFile $runWNum $runName\n",
    "tar -xf $1\n",
    "mv $2 $3"
   ]
  },
  {
   "cell_type": "markdown",
   "metadata": {},
   "source": [
    "Do postprocessing on the unpacked results"
   ]
  },
  {
   "cell_type": "code",
   "execution_count": 20,
   "metadata": {},
   "outputs": [
    {
     "name": "stdout",
     "output_type": "stream",
     "text": [
      "Requirement already satisfied: pickle5 in /home/jupyter/.local/lib/python3.9/site-packages (0.0.11)\n"
     ]
    }
   ],
   "source": [
    "!pip install pickle5 --user"
   ]
  },
  {
   "cell_type": "code",
   "execution_count": 21,
   "metadata": {},
   "outputs": [
    {
     "name": "stdout",
     "output_type": "stream",
     "text": [
      "Requirement already satisfied: pygeos in /opt/conda/lib/python3.9/site-packages (0.13)\n",
      "Requirement already satisfied: numpy>=1.13 in /opt/conda/lib/python3.9/site-packages (from pygeos) (1.22.2)\n",
      "Requirement already satisfied: geopandas in /opt/conda/lib/python3.9/site-packages (0.12.1)\n",
      "Requirement already satisfied: pyproj>=2.6.1.post1 in /opt/conda/lib/python3.9/site-packages (from geopandas) (3.4.0)\n",
      "Requirement already satisfied: packaging in /opt/conda/lib/python3.9/site-packages (from geopandas) (21.3)\n",
      "Requirement already satisfied: fiona>=1.8 in /opt/conda/lib/python3.9/site-packages (from geopandas) (1.8.22)\n",
      "Requirement already satisfied: shapely>=1.7 in /opt/conda/lib/python3.9/site-packages (from geopandas) (1.8.5.post1)\n",
      "Requirement already satisfied: pandas>=1.0.0 in /opt/conda/lib/python3.9/site-packages (from geopandas) (1.4.1)\n",
      "Requirement already satisfied: click>=4.0 in /opt/conda/lib/python3.9/site-packages (from fiona>=1.8->geopandas) (8.0.4)\n",
      "Requirement already satisfied: click-plugins>=1.0 in /opt/conda/lib/python3.9/site-packages (from fiona>=1.8->geopandas) (1.1.1)\n",
      "Requirement already satisfied: munch in /opt/conda/lib/python3.9/site-packages (from fiona>=1.8->geopandas) (2.5.0)\n",
      "Requirement already satisfied: setuptools in /opt/conda/lib/python3.9/site-packages (from fiona>=1.8->geopandas) (60.9.3)\n",
      "Requirement already satisfied: cligj>=0.5 in /opt/conda/lib/python3.9/site-packages (from fiona>=1.8->geopandas) (0.7.2)\n",
      "Requirement already satisfied: attrs>=17 in /opt/conda/lib/python3.9/site-packages (from fiona>=1.8->geopandas) (21.4.0)\n",
      "Requirement already satisfied: certifi in /opt/conda/lib/python3.9/site-packages (from fiona>=1.8->geopandas) (2021.10.8)\n",
      "Requirement already satisfied: six>=1.7 in /opt/conda/lib/python3.9/site-packages (from fiona>=1.8->geopandas) (1.16.0)\n",
      "Requirement already satisfied: numpy>=1.18.5 in /opt/conda/lib/python3.9/site-packages (from pandas>=1.0.0->geopandas) (1.22.2)\n",
      "Requirement already satisfied: pytz>=2020.1 in /opt/conda/lib/python3.9/site-packages (from pandas>=1.0.0->geopandas) (2021.3)\n",
      "Requirement already satisfied: python-dateutil>=2.8.1 in /opt/conda/lib/python3.9/site-packages (from pandas>=1.0.0->geopandas) (2.8.2)\n",
      "Requirement already satisfied: pyparsing!=3.0.5,>=2.0.2 in /opt/conda/lib/python3.9/site-packages (from packaging->geopandas) (3.0.7)\n",
      "Requirement already satisfied: sqlalchemy_utils in /opt/conda/lib/python3.9/site-packages (0.38.3)\n",
      "Requirement already satisfied: SQLAlchemy>=1.3 in /opt/conda/lib/python3.9/site-packages (from sqlalchemy_utils) (1.4.31)\n",
      "Requirement already satisfied: greenlet!=0.4.17 in /opt/conda/lib/python3.9/site-packages (from SQLAlchemy>=1.3->sqlalchemy_utils) (1.1.2)\n"
     ]
    },
    {
     "name": "stderr",
     "output_type": "stream",
     "text": [
      "/home/jupyter/projects/PRJ-2759/Computer_Vision/CorrectedImages/postProcessing.py:67: FutureWarning: The `op` parameter is deprecated and will be removed in a future release. Please use the `predicate` parameter instead.\n",
      "  df = jobPickleToDataframe(pkldata,(runNum,date,subfolder))\n",
      "/home/jupyter/projects/PRJ-2759/Computer_Vision/CorrectedImages/postProcessing.py:200: UserWarning: CRS mismatch between the CRS of left geometries and the CRS of right geometries.\n",
      "Use `to_crs()` to reproject one of the input geometries to match the CRS of the other.\n",
      "\n",
      "Left CRS: EPSG:2926\n",
      "Right CRS: PROJCS[\"NAD83(HARN) / Washington North (ftUS)\",GEO ...\n",
      "\n",
      "  merged_file = gpd.sjoin(gdf, census_tracts, how='left', op='within')\n",
      "/home/jupyter/projects/PRJ-2759/Computer_Vision/CorrectedImages/postProcessing.py:67: FutureWarning: The `op` parameter is deprecated and will be removed in a future release. Please use the `predicate` parameter instead.\n",
      "  df = jobPickleToDataframe(pkldata,(runNum,date,subfolder))\n",
      "/home/jupyter/projects/PRJ-2759/Computer_Vision/CorrectedImages/postProcessing.py:200: UserWarning: CRS mismatch between the CRS of left geometries and the CRS of right geometries.\n",
      "Use `to_crs()` to reproject one of the input geometries to match the CRS of the other.\n",
      "\n",
      "Left CRS: EPSG:2926\n",
      "Right CRS: PROJCS[\"NAD83(HARN) / Washington North (ftUS)\",GEO ...\n",
      "\n",
      "  merged_file = gpd.sjoin(gdf, census_tracts, how='left', op='within')\n",
      "/home/jupyter/projects/PRJ-2759/Computer_Vision/CorrectedImages/postProcessing.py:67: FutureWarning: The `op` parameter is deprecated and will be removed in a future release. Please use the `predicate` parameter instead.\n",
      "  df = jobPickleToDataframe(pkldata,(runNum,date,subfolder))\n",
      "/home/jupyter/projects/PRJ-2759/Computer_Vision/CorrectedImages/postProcessing.py:200: UserWarning: CRS mismatch between the CRS of left geometries and the CRS of right geometries.\n",
      "Use `to_crs()` to reproject one of the input geometries to match the CRS of the other.\n",
      "\n",
      "Left CRS: EPSG:2926\n",
      "Right CRS: PROJCS[\"NAD83(HARN) / Washington North (ftUS)\",GEO ...\n",
      "\n",
      "  merged_file = gpd.sjoin(gdf, census_tracts, how='left', op='within')\n",
      "/home/jupyter/projects/PRJ-2759/Computer_Vision/CorrectedImages/postProcessing.py:67: FutureWarning: The `op` parameter is deprecated and will be removed in a future release. Please use the `predicate` parameter instead.\n",
      "  df = jobPickleToDataframe(pkldata,(runNum,date,subfolder))\n",
      "/home/jupyter/projects/PRJ-2759/Computer_Vision/CorrectedImages/postProcessing.py:200: UserWarning: CRS mismatch between the CRS of left geometries and the CRS of right geometries.\n",
      "Use `to_crs()` to reproject one of the input geometries to match the CRS of the other.\n",
      "\n",
      "Left CRS: EPSG:2926\n",
      "Right CRS: PROJCS[\"NAD83(HARN) / Washington North (ftUS)\",GEO ...\n",
      "\n",
      "  merged_file = gpd.sjoin(gdf, census_tracts, how='left', op='within')\n",
      "/home/jupyter/projects/PRJ-2759/Computer_Vision/CorrectedImages/postProcessing.py:67: FutureWarning: The `op` parameter is deprecated and will be removed in a future release. Please use the `predicate` parameter instead.\n",
      "  df = jobPickleToDataframe(pkldata,(runNum,date,subfolder))\n",
      "/home/jupyter/projects/PRJ-2759/Computer_Vision/CorrectedImages/postProcessing.py:200: UserWarning: CRS mismatch between the CRS of left geometries and the CRS of right geometries.\n",
      "Use `to_crs()` to reproject one of the input geometries to match the CRS of the other.\n",
      "\n",
      "Left CRS: EPSG:2926\n",
      "Right CRS: PROJCS[\"NAD83(HARN) / Washington North (ftUS)\",GEO ...\n",
      "\n",
      "  merged_file = gpd.sjoin(gdf, census_tracts, how='left', op='within')\n",
      "/home/jupyter/projects/PRJ-2759/Computer_Vision/CorrectedImages/postProcessing.py:67: FutureWarning: The `op` parameter is deprecated and will be removed in a future release. Please use the `predicate` parameter instead.\n",
      "  df = jobPickleToDataframe(pkldata,(runNum,date,subfolder))\n",
      "/home/jupyter/projects/PRJ-2759/Computer_Vision/CorrectedImages/postProcessing.py:200: UserWarning: CRS mismatch between the CRS of left geometries and the CRS of right geometries.\n",
      "Use `to_crs()` to reproject one of the input geometries to match the CRS of the other.\n",
      "\n",
      "Left CRS: EPSG:2926\n",
      "Right CRS: PROJCS[\"NAD83(HARN) / Washington North (ftUS)\",GEO ...\n",
      "\n",
      "  merged_file = gpd.sjoin(gdf, census_tracts, how='left', op='within')\n",
      "/home/jupyter/projects/PRJ-2759/Computer_Vision/CorrectedImages/postProcessing.py:67: FutureWarning: The `op` parameter is deprecated and will be removed in a future release. Please use the `predicate` parameter instead.\n",
      "  df = jobPickleToDataframe(pkldata,(runNum,date,subfolder))\n",
      "/home/jupyter/projects/PRJ-2759/Computer_Vision/CorrectedImages/postProcessing.py:200: UserWarning: CRS mismatch between the CRS of left geometries and the CRS of right geometries.\n",
      "Use `to_crs()` to reproject one of the input geometries to match the CRS of the other.\n",
      "\n",
      "Left CRS: EPSG:2926\n",
      "Right CRS: PROJCS[\"NAD83(HARN) / Washington North (ftUS)\",GEO ...\n",
      "\n",
      "  merged_file = gpd.sjoin(gdf, census_tracts, how='left', op='within')\n",
      "/home/jupyter/projects/PRJ-2759/Computer_Vision/CorrectedImages/postProcessing.py:67: FutureWarning: The `op` parameter is deprecated and will be removed in a future release. Please use the `predicate` parameter instead.\n",
      "  df = jobPickleToDataframe(pkldata,(runNum,date,subfolder))\n",
      "/home/jupyter/projects/PRJ-2759/Computer_Vision/CorrectedImages/postProcessing.py:200: UserWarning: CRS mismatch between the CRS of left geometries and the CRS of right geometries.\n",
      "Use `to_crs()` to reproject one of the input geometries to match the CRS of the other.\n",
      "\n",
      "Left CRS: EPSG:2926\n",
      "Right CRS: PROJCS[\"NAD83(HARN) / Washington North (ftUS)\",GEO ...\n",
      "\n",
      "  merged_file = gpd.sjoin(gdf, census_tracts, how='left', op='within')\n",
      "/home/jupyter/projects/PRJ-2759/Computer_Vision/CorrectedImages/postProcessing.py:67: FutureWarning: The `op` parameter is deprecated and will be removed in a future release. Please use the `predicate` parameter instead.\n",
      "  df = jobPickleToDataframe(pkldata,(runNum,date,subfolder))\n",
      "/home/jupyter/projects/PRJ-2759/Computer_Vision/CorrectedImages/postProcessing.py:200: UserWarning: CRS mismatch between the CRS of left geometries and the CRS of right geometries.\n",
      "Use `to_crs()` to reproject one of the input geometries to match the CRS of the other.\n",
      "\n",
      "Left CRS: EPSG:2926\n",
      "Right CRS: PROJCS[\"NAD83(HARN) / Washington North (ftUS)\",GEO ...\n",
      "\n",
      "  merged_file = gpd.sjoin(gdf, census_tracts, how='left', op='within')\n",
      "/home/jupyter/projects/PRJ-2759/Computer_Vision/CorrectedImages/postProcessing.py:67: FutureWarning: The `op` parameter is deprecated and will be removed in a future release. Please use the `predicate` parameter instead.\n",
      "  df = jobPickleToDataframe(pkldata,(runNum,date,subfolder))\n",
      "/home/jupyter/projects/PRJ-2759/Computer_Vision/CorrectedImages/postProcessing.py:200: UserWarning: CRS mismatch between the CRS of left geometries and the CRS of right geometries.\n",
      "Use `to_crs()` to reproject one of the input geometries to match the CRS of the other.\n",
      "\n",
      "Left CRS: EPSG:2926\n",
      "Right CRS: PROJCS[\"NAD83(HARN) / Washington North (ftUS)\",GEO ...\n",
      "\n",
      "  merged_file = gpd.sjoin(gdf, census_tracts, how='left', op='within')\n",
      "/home/jupyter/projects/PRJ-2759/Computer_Vision/CorrectedImages/postProcessing.py:67: FutureWarning: The `op` parameter is deprecated and will be removed in a future release. Please use the `predicate` parameter instead.\n",
      "  df = jobPickleToDataframe(pkldata,(runNum,date,subfolder))\n",
      "/home/jupyter/projects/PRJ-2759/Computer_Vision/CorrectedImages/postProcessing.py:200: UserWarning: CRS mismatch between the CRS of left geometries and the CRS of right geometries.\n",
      "Use `to_crs()` to reproject one of the input geometries to match the CRS of the other.\n",
      "\n",
      "Left CRS: EPSG:2926\n",
      "Right CRS: PROJCS[\"NAD83(HARN) / Washington North (ftUS)\",GEO ...\n",
      "\n",
      "  merged_file = gpd.sjoin(gdf, census_tracts, how='left', op='within')\n",
      "/home/jupyter/projects/PRJ-2759/Computer_Vision/CorrectedImages/postProcessing.py:67: FutureWarning: The `op` parameter is deprecated and will be removed in a future release. Please use the `predicate` parameter instead.\n",
      "  df = jobPickleToDataframe(pkldata,(runNum,date,subfolder))\n",
      "/home/jupyter/projects/PRJ-2759/Computer_Vision/CorrectedImages/postProcessing.py:200: UserWarning: CRS mismatch between the CRS of left geometries and the CRS of right geometries.\n",
      "Use `to_crs()` to reproject one of the input geometries to match the CRS of the other.\n",
      "\n",
      "Left CRS: EPSG:2926\n",
      "Right CRS: PROJCS[\"NAD83(HARN) / Washington North (ftUS)\",GEO ...\n",
      "\n",
      "  merged_file = gpd.sjoin(gdf, census_tracts, how='left', op='within')\n",
      "/home/jupyter/projects/PRJ-2759/Computer_Vision/CorrectedImages/postProcessing.py:67: FutureWarning: The `op` parameter is deprecated and will be removed in a future release. Please use the `predicate` parameter instead.\n",
      "  df = jobPickleToDataframe(pkldata,(runNum,date,subfolder))\n",
      "/home/jupyter/projects/PRJ-2759/Computer_Vision/CorrectedImages/postProcessing.py:200: UserWarning: CRS mismatch between the CRS of left geometries and the CRS of right geometries.\n",
      "Use `to_crs()` to reproject one of the input geometries to match the CRS of the other.\n",
      "\n",
      "Left CRS: EPSG:2926\n",
      "Right CRS: PROJCS[\"NAD83(HARN) / Washington North (ftUS)\",GEO ...\n",
      "\n",
      "  merged_file = gpd.sjoin(gdf, census_tracts, how='left', op='within')\n",
      "/home/jupyter/projects/PRJ-2759/Computer_Vision/CorrectedImages/postProcessing.py:67: FutureWarning: The `op` parameter is deprecated and will be removed in a future release. Please use the `predicate` parameter instead.\n",
      "  df = jobPickleToDataframe(pkldata,(runNum,date,subfolder))\n",
      "/home/jupyter/projects/PRJ-2759/Computer_Vision/CorrectedImages/postProcessing.py:200: UserWarning: CRS mismatch between the CRS of left geometries and the CRS of right geometries.\n",
      "Use `to_crs()` to reproject one of the input geometries to match the CRS of the other.\n",
      "\n",
      "Left CRS: EPSG:2926\n",
      "Right CRS: PROJCS[\"NAD83(HARN) / Washington North (ftUS)\",GEO ...\n",
      "\n",
      "  merged_file = gpd.sjoin(gdf, census_tracts, how='left', op='within')\n",
      "/home/jupyter/projects/PRJ-2759/Computer_Vision/CorrectedImages/postProcessing.py:67: FutureWarning: The `op` parameter is deprecated and will be removed in a future release. Please use the `predicate` parameter instead.\n",
      "  df = jobPickleToDataframe(pkldata,(runNum,date,subfolder))\n",
      "/home/jupyter/projects/PRJ-2759/Computer_Vision/CorrectedImages/postProcessing.py:200: UserWarning: CRS mismatch between the CRS of left geometries and the CRS of right geometries.\n",
      "Use `to_crs()` to reproject one of the input geometries to match the CRS of the other.\n",
      "\n",
      "Left CRS: EPSG:2926\n",
      "Right CRS: PROJCS[\"NAD83(HARN) / Washington North (ftUS)\",GEO ...\n",
      "\n",
      "  merged_file = gpd.sjoin(gdf, census_tracts, how='left', op='within')\n",
      "/home/jupyter/projects/PRJ-2759/Computer_Vision/CorrectedImages/postProcessing.py:67: FutureWarning: The `op` parameter is deprecated and will be removed in a future release. Please use the `predicate` parameter instead.\n",
      "  df = jobPickleToDataframe(pkldata,(runNum,date,subfolder))\n",
      "/home/jupyter/projects/PRJ-2759/Computer_Vision/CorrectedImages/postProcessing.py:200: UserWarning: CRS mismatch between the CRS of left geometries and the CRS of right geometries.\n",
      "Use `to_crs()` to reproject one of the input geometries to match the CRS of the other.\n",
      "\n",
      "Left CRS: EPSG:2926\n",
      "Right CRS: PROJCS[\"NAD83(HARN) / Washington North (ftUS)\",GEO ...\n",
      "\n",
      "  merged_file = gpd.sjoin(gdf, census_tracts, how='left', op='within')\n",
      "/home/jupyter/projects/PRJ-2759/Computer_Vision/CorrectedImages/postProcessing.py:67: FutureWarning: The `op` parameter is deprecated and will be removed in a future release. Please use the `predicate` parameter instead.\n",
      "  df = jobPickleToDataframe(pkldata,(runNum,date,subfolder))\n",
      "/home/jupyter/projects/PRJ-2759/Computer_Vision/CorrectedImages/postProcessing.py:200: UserWarning: CRS mismatch between the CRS of left geometries and the CRS of right geometries.\n",
      "Use `to_crs()` to reproject one of the input geometries to match the CRS of the other.\n",
      "\n",
      "Left CRS: EPSG:2926\n",
      "Right CRS: PROJCS[\"NAD83(HARN) / Washington North (ftUS)\",GEO ...\n",
      "\n",
      "  merged_file = gpd.sjoin(gdf, census_tracts, how='left', op='within')\n",
      "/home/jupyter/projects/PRJ-2759/Computer_Vision/CorrectedImages/postProcessing.py:67: FutureWarning: The `op` parameter is deprecated and will be removed in a future release. Please use the `predicate` parameter instead.\n",
      "  df = jobPickleToDataframe(pkldata,(runNum,date,subfolder))\n",
      "/home/jupyter/projects/PRJ-2759/Computer_Vision/CorrectedImages/postProcessing.py:200: UserWarning: CRS mismatch between the CRS of left geometries and the CRS of right geometries.\n",
      "Use `to_crs()` to reproject one of the input geometries to match the CRS of the other.\n",
      "\n",
      "Left CRS: EPSG:2926\n",
      "Right CRS: PROJCS[\"NAD83(HARN) / Washington North (ftUS)\",GEO ...\n",
      "\n",
      "  merged_file = gpd.sjoin(gdf, census_tracts, how='left', op='within')\n",
      "/home/jupyter/projects/PRJ-2759/Computer_Vision/CorrectedImages/postProcessing.py:67: FutureWarning: The `op` parameter is deprecated and will be removed in a future release. Please use the `predicate` parameter instead.\n",
      "  df = jobPickleToDataframe(pkldata,(runNum,date,subfolder))\n",
      "/home/jupyter/projects/PRJ-2759/Computer_Vision/CorrectedImages/postProcessing.py:200: UserWarning: CRS mismatch between the CRS of left geometries and the CRS of right geometries.\n",
      "Use `to_crs()` to reproject one of the input geometries to match the CRS of the other.\n",
      "\n",
      "Left CRS: EPSG:2926\n",
      "Right CRS: PROJCS[\"NAD83(HARN) / Washington North (ftUS)\",GEO ...\n",
      "\n",
      "  merged_file = gpd.sjoin(gdf, census_tracts, how='left', op='within')\n",
      "/home/jupyter/projects/PRJ-2759/Computer_Vision/CorrectedImages/postProcessing.py:67: FutureWarning: The `op` parameter is deprecated and will be removed in a future release. Please use the `predicate` parameter instead.\n",
      "  df = jobPickleToDataframe(pkldata,(runNum,date,subfolder))\n",
      "/home/jupyter/projects/PRJ-2759/Computer_Vision/CorrectedImages/postProcessing.py:200: UserWarning: CRS mismatch between the CRS of left geometries and the CRS of right geometries.\n",
      "Use `to_crs()` to reproject one of the input geometries to match the CRS of the other.\n",
      "\n",
      "Left CRS: EPSG:2926\n",
      "Right CRS: PROJCS[\"NAD83(HARN) / Washington North (ftUS)\",GEO ...\n",
      "\n",
      "  merged_file = gpd.sjoin(gdf, census_tracts, how='left', op='within')\n",
      "/home/jupyter/projects/PRJ-2759/Computer_Vision/CorrectedImages/postProcessing.py:67: FutureWarning: The `op` parameter is deprecated and will be removed in a future release. Please use the `predicate` parameter instead.\n",
      "  df = jobPickleToDataframe(pkldata,(runNum,date,subfolder))\n",
      "/home/jupyter/projects/PRJ-2759/Computer_Vision/CorrectedImages/postProcessing.py:200: UserWarning: CRS mismatch between the CRS of left geometries and the CRS of right geometries.\n",
      "Use `to_crs()` to reproject one of the input geometries to match the CRS of the other.\n",
      "\n",
      "Left CRS: EPSG:2926\n",
      "Right CRS: PROJCS[\"NAD83(HARN) / Washington North (ftUS)\",GEO ...\n",
      "\n",
      "  merged_file = gpd.sjoin(gdf, census_tracts, how='left', op='within')\n",
      "/home/jupyter/projects/PRJ-2759/Computer_Vision/CorrectedImages/postProcessing.py:67: FutureWarning: The `op` parameter is deprecated and will be removed in a future release. Please use the `predicate` parameter instead.\n",
      "  df = jobPickleToDataframe(pkldata,(runNum,date,subfolder))\n",
      "/home/jupyter/projects/PRJ-2759/Computer_Vision/CorrectedImages/postProcessing.py:200: UserWarning: CRS mismatch between the CRS of left geometries and the CRS of right geometries.\n",
      "Use `to_crs()` to reproject one of the input geometries to match the CRS of the other.\n",
      "\n",
      "Left CRS: EPSG:2926\n",
      "Right CRS: PROJCS[\"NAD83(HARN) / Washington North (ftUS)\",GEO ...\n",
      "\n",
      "  merged_file = gpd.sjoin(gdf, census_tracts, how='left', op='within')\n",
      "/home/jupyter/projects/PRJ-2759/Computer_Vision/CorrectedImages/postProcessing.py:67: FutureWarning: The `op` parameter is deprecated and will be removed in a future release. Please use the `predicate` parameter instead.\n",
      "  df = jobPickleToDataframe(pkldata,(runNum,date,subfolder))\n",
      "/home/jupyter/projects/PRJ-2759/Computer_Vision/CorrectedImages/postProcessing.py:200: UserWarning: CRS mismatch between the CRS of left geometries and the CRS of right geometries.\n",
      "Use `to_crs()` to reproject one of the input geometries to match the CRS of the other.\n",
      "\n",
      "Left CRS: EPSG:2926\n",
      "Right CRS: PROJCS[\"NAD83(HARN) / Washington North (ftUS)\",GEO ...\n",
      "\n",
      "  merged_file = gpd.sjoin(gdf, census_tracts, how='left', op='within')\n",
      "/home/jupyter/projects/PRJ-2759/Computer_Vision/CorrectedImages/postProcessing.py:67: FutureWarning: The `op` parameter is deprecated and will be removed in a future release. Please use the `predicate` parameter instead.\n",
      "  df = jobPickleToDataframe(pkldata,(runNum,date,subfolder))\n",
      "/home/jupyter/projects/PRJ-2759/Computer_Vision/CorrectedImages/postProcessing.py:200: UserWarning: CRS mismatch between the CRS of left geometries and the CRS of right geometries.\n",
      "Use `to_crs()` to reproject one of the input geometries to match the CRS of the other.\n",
      "\n",
      "Left CRS: EPSG:2926\n",
      "Right CRS: PROJCS[\"NAD83(HARN) / Washington North (ftUS)\",GEO ...\n",
      "\n",
      "  merged_file = gpd.sjoin(gdf, census_tracts, how='left', op='within')\n"
     ]
    },
    {
     "name": "stdout",
     "output_type": "stream",
     "text": [
      "Loading output4.pkl...\n",
      "Loading output15.pkl...\n",
      "Loading output1.pkl...\n",
      "Loading output5.pkl...\n",
      "Loading output14.pkl...\n",
      "Loading output8.pkl...\n",
      "Loading output22.pkl...\n",
      "Loading output24.pkl...\n",
      "Loading output6.pkl...\n",
      "Loading output20.pkl...\n",
      "Loading output2.pkl...\n",
      "Loading output16.pkl...\n",
      "Loading output23.pkl...\n",
      "Loading output10.pkl...\n",
      "Loading output18.pkl...\n",
      "Loading output9.pkl...\n",
      "Loading output3.pkl...\n",
      "Loading output21.pkl...\n",
      "Loading output11.pkl...\n",
      "Loading output7.pkl...\n",
      "Loading output19.pkl...\n",
      "Loading output17.pkl...\n",
      "Loading output12.pkl...\n",
      "Loading output13.pkl...\n"
     ]
    }
   ],
   "source": [
    "%%bash -s $runName\n",
    "pip install pygeos \n",
    "pip install geopandas\n",
    "pip install sqlalchemy_utils\n",
    "python postProcessing.py $1"
   ]
  },
  {
   "cell_type": "code",
   "execution_count": null,
   "metadata": {},
   "outputs": [],
   "source": []
  },
  {
   "cell_type": "markdown",
   "metadata": {},
   "source": [
    "%%bash -s $runName\n",
    "#pip install pygeos \n",
    "#pip install geopandas\n",
    "#pip install sqlalchemy_utils\n",
    "python postProcessing_run14.py $1"
   ]
  },
  {
   "cell_type": "markdown",
   "metadata": {},
   "source": [
    "Crop out the pedestrians from corrected images"
   ]
  },
  {
   "cell_type": "markdown",
   "metadata": {},
   "source": [
    "import os\n",
    "croppedFolder = 'CroppedImages'\n",
    "if croppedFolder not in os.listdir():\n",
    "    os.mkdir(croppedFolder)\n",
    "\n",
    "runFolder = 'run{}'.format(runNum)\n",
    "runDir = os.path.join(croppedFolder,runFolder)\n",
    "dfDir = os.path.join('DetectionDfs','Run{}_Detections.pkl'.format(runNum))\n",
    "\n",
    "if runFolder not in os.listdir(croppedFolder):\n",
    "    os.mkdir(runDir)"
   ]
  },
  {
   "cell_type": "markdown",
   "metadata": {},
   "source": [
    "%%bash -s $runName $runDir $dfDir\n",
    "python cropImages.py $1 $2 $3"
   ]
  },
  {
   "cell_type": "markdown",
   "metadata": {},
   "source": [
    "import cropImages"
   ]
  },
  {
   "cell_type": "markdown",
   "metadata": {},
   "source": [
    "from PIL import Image\n",
    "imgList = cropImages.listImages(runName)\n",
    "df = pd.read_pickle(dfDir)\n",
    "detectionDf = df\n",
    "outDir = runDir"
   ]
  },
  {
   "cell_type": "markdown",
   "metadata": {},
   "source": [
    "for i,imgFname in enumerate(imgList):\n",
    "\n",
    "        # Load image and parse data info needed to get relevant detections\n",
    "        img = Image.open(imgFname)\n",
    "        folder,num = imgFname.split('/')[1:]\n",
    "\n",
    "        if folder not in os.listdir(outDir):\n",
    "            os.mkdir(os.path.join(outDir,folder))\n",
    "\n",
    "        num,side = num.split('_')\n",
    "        side = side.split('.')[0]\n",
    "\n",
    "        detects = detectionDf[(detectionDf.Subfolder==folder)&\\\n",
    "                              (detectionDf.Filename==num[-4:])&\\\n",
    "                              (detectionDf.Side==side)]\n",
    "        '''\n",
    "        if len(detects) > 0:\n",
    "            print('{} detections in image {}'.format(len(detects),i))\n",
    "        '''\n",
    "        \n",
    "        # Loop over detections and crop each out of relevant image\n",
    "        for j,row in detects.iterrows():\n",
    "\n",
    "            detId,l,t,r,b = row[['DetectionID','Xmin','Ymin','Xmax','Ymax']]\n",
    "            l,t,r,b = int(l),int(t),int(r),int(b)\n",
    "            croppedImg = img.crop((l,t,r,b))\n",
    "\n",
    "            outName = '{}_{}_{}.png'.format(num,side,detId)\n",
    "            try:\n",
    "                croppedImg.save(os.path.join(outDir,folder,outName))\n",
    "            except Exception as e:\n",
    "                print('Image size: {}'.format(img.size))\n",
    "                print('bbox: {}'.format((l,t,r,b)))\n",
    "                raise e\n",
    "\n",
    "        if i%100 == 0:\n",
    "            print('Done with image {}!'.format(i))\n",
    "            # print('Output dir: {}'.format(os.path.join(outDir,folder,outName)))"
   ]
  },
  {
   "cell_type": "markdown",
   "metadata": {},
   "source": [
    "Concatenate all of the pairs dataframes"
   ]
  },
  {
   "cell_type": "code",
   "execution_count": 22,
   "metadata": {},
   "outputs": [],
   "source": [
    "pairFoldName = 'run{}_pairs'.format(runNum)\n",
    "oldFoldName = 'run{}_pairs'.format(int(runNum))"
   ]
  },
  {
   "cell_type": "code",
   "execution_count": 23,
   "metadata": {},
   "outputs": [],
   "source": [
    "%%bash -s $oldFoldName $pairFoldName\n",
    "#mv $1 $2"
   ]
  },
  {
   "cell_type": "code",
   "execution_count": 24,
   "metadata": {},
   "outputs": [
    {
     "ename": "FileNotFoundError",
     "evalue": "[Errno 2] No such file or directory: 'run33_pairs'",
     "output_type": "error",
     "traceback": [
      "\u001b[0;31m---------------------------------------------------------------------------\u001b[0m",
      "\u001b[0;31mFileNotFoundError\u001b[0m                         Traceback (most recent call last)",
      "Input \u001b[0;32mIn [24]\u001b[0m, in \u001b[0;36m<module>\u001b[0;34m\u001b[0m\n\u001b[1;32m      1\u001b[0m \u001b[38;5;28;01mimport\u001b[39;00m \u001b[38;5;21;01mpandas\u001b[39;00m \u001b[38;5;28;01mas\u001b[39;00m \u001b[38;5;21;01mpd\u001b[39;00m\n\u001b[1;32m      2\u001b[0m pairDfList \u001b[38;5;241m=\u001b[39m []\n\u001b[0;32m----> 3\u001b[0m \u001b[38;5;28;01mfor\u001b[39;00m fname \u001b[38;5;129;01min\u001b[39;00m \u001b[43mos\u001b[49m\u001b[38;5;241;43m.\u001b[39;49m\u001b[43mlistdir\u001b[49m\u001b[43m(\u001b[49m\u001b[38;5;124;43m'\u001b[39;49m\u001b[38;5;124;43mrun\u001b[39;49m\u001b[38;5;132;43;01m{}\u001b[39;49;00m\u001b[38;5;124;43m_pairs\u001b[39;49m\u001b[38;5;124;43m'\u001b[39;49m\u001b[38;5;241;43m.\u001b[39;49m\u001b[43mformat\u001b[49m\u001b[43m(\u001b[49m\u001b[43mrunNum\u001b[49m\u001b[43m)\u001b[49m\u001b[43m)\u001b[49m:\n\u001b[1;32m      4\u001b[0m     df \u001b[38;5;241m=\u001b[39m pd\u001b[38;5;241m.\u001b[39mread_pickle(os\u001b[38;5;241m.\u001b[39mpath\u001b[38;5;241m.\u001b[39mjoin(\u001b[38;5;124m'\u001b[39m\u001b[38;5;124mrun\u001b[39m\u001b[38;5;132;01m{}\u001b[39;00m\u001b[38;5;124m_pairs\u001b[39m\u001b[38;5;124m'\u001b[39m\u001b[38;5;241m.\u001b[39mformat(runNum),fname))\n\u001b[1;32m      5\u001b[0m     pairDfList\u001b[38;5;241m.\u001b[39mappend(df)\n",
      "\u001b[0;31mFileNotFoundError\u001b[0m: [Errno 2] No such file or directory: 'run33_pairs'"
     ]
    }
   ],
   "source": [
    "\n",
    "import pandas as pd\n",
    "pairDfList = []\n",
    "for fname in os.listdir('run{}_pairs'.format(runNum)):\n",
    "    df = pd.read_pickle(os.path.join('run{}_pairs'.format(runNum),fname))\n",
    "    pairDfList.append(df)\n",
    "    \n",
    "pairDf = pd.concat(pairDfList)\n",
    "pairDf.to_pickle('run{}_pairs/pairs.pkl'.format(runNum))"
   ]
  },
  {
   "cell_type": "code",
   "execution_count": null,
   "metadata": {},
   "outputs": [],
   "source": []
  },
  {
   "cell_type": "code",
   "execution_count": null,
   "metadata": {},
   "outputs": [],
   "source": []
  },
  {
   "cell_type": "code",
   "execution_count": null,
   "metadata": {},
   "outputs": [],
   "source": []
  },
  {
   "cell_type": "code",
   "execution_count": null,
   "metadata": {},
   "outputs": [],
   "source": []
  },
  {
   "cell_type": "code",
   "execution_count": null,
   "metadata": {},
   "outputs": [],
   "source": []
  },
  {
   "cell_type": "code",
   "execution_count": null,
   "metadata": {},
   "outputs": [],
   "source": []
  },
  {
   "cell_type": "code",
   "execution_count": null,
   "metadata": {},
   "outputs": [],
   "source": []
  },
  {
   "cell_type": "code",
   "execution_count": null,
   "metadata": {},
   "outputs": [],
   "source": []
  }
 ],
 "metadata": {
  "IMAGE_NAME": "taccsciapps/ds-nb-img:base-0.1.0",
  "UUID": "5705d2d0-0575-11ed-b41e-c6ac174f6546",
  "kernelspec": {
   "display_name": "Python 3",
   "language": "python",
   "name": "python3"
  },
  "language_info": {
   "codemirror_mode": {
    "name": "ipython",
    "version": 3
   },
   "file_extension": ".py",
   "mimetype": "text/x-python",
   "name": "python",
   "nbconvert_exporter": "python",
   "pygments_lexer": "ipython3",
   "version": "3.6.8"
  }
 },
 "nbformat": 4,
 "nbformat_minor": 4
}
